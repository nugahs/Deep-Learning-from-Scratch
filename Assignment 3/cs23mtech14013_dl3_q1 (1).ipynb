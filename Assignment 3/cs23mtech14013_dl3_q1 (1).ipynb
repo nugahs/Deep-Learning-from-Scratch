{
  "metadata": {
    "kernelspec": {
      "display_name": "Python 3",
      "name": "python3"
    },
    "language_info": {
      "name": "python",
      "version": "3.10.13",
      "mimetype": "text/x-python",
      "codemirror_mode": {
        "name": "ipython",
        "version": 3
      },
      "pygments_lexer": "ipython3",
      "nbconvert_exporter": "python",
      "file_extension": ".py"
    },
    "kaggle": {
      "accelerator": "nvidiaTeslaT4",
      "dataSources": [],
      "dockerImageVersionId": 30665,
      "isInternetEnabled": true,
      "language": "python",
      "sourceType": "notebook",
      "isGpuEnabled": true
    },
    "colab": {
      "provenance": [],
      "gpuType": "T4"
    },
    "accelerator": "GPU"
  },
  "nbformat_minor": 0,
  "nbformat": 4,
  "cells": [
    {
      "cell_type": "markdown",
      "source": [
        "#### $\\text{Deep Learning (AI2100/AI5100): Assignment-3}$\n",
        "$\\text{Name: Shagun}$  \n",
        "$\\text{Roll No: CS23MTECH14013}$"
      ],
      "metadata": {
        "id": "7OxLFXFncwyE"
      }
    },
    {
      "cell_type": "markdown",
      "source": [
        "##### $\\text{Importing libraries }$"
      ],
      "metadata": {
        "execution": {
          "iopub.status.busy": "2024-03-25T10:56:17.950306Z",
          "iopub.execute_input": "2024-03-25T10:56:17.950688Z",
          "iopub.status.idle": "2024-03-25T10:56:31.843884Z",
          "shell.execute_reply.started": "2024-03-25T10:56:17.950658Z",
          "shell.execute_reply": "2024-03-25T10:56:31.842766Z"
        },
        "id": "VxAjsDvYcwyG"
      }
    },
    {
      "cell_type": "code",
      "source": [
        "!pip install torchsummary\n",
        "\n",
        "import warnings\n",
        "warnings.filterwarnings(\"ignore\")\n",
        "\n",
        "import torch\n",
        "import torch.nn as nn\n",
        "import torch.nn.functional as F\n",
        "import torchvision\n",
        "import torchvision.transforms as transforms\n",
        "import matplotlib.pyplot as plt\n",
        "from tqdm import tqdm\n",
        "import numpy as np\n",
        "from torchsummary import summary\n"
      ],
      "metadata": {
        "execution": {
          "iopub.status.busy": "2024-03-29T11:25:22.888120Z",
          "iopub.execute_input": "2024-03-29T11:25:22.888439Z",
          "iopub.status.idle": "2024-03-29T11:25:42.232518Z",
          "shell.execute_reply.started": "2024-03-29T11:25:22.888415Z",
          "shell.execute_reply": "2024-03-29T11:25:42.231687Z"
        },
        "trusted": true,
        "colab": {
          "base_uri": "https://localhost:8080/"
        },
        "id": "hIwSO91scwyG",
        "outputId": "153946cc-678c-4a1a-d74f-28fbf90dcff1"
      },
      "execution_count": 1,
      "outputs": [
        {
          "output_type": "stream",
          "name": "stdout",
          "text": [
            "Requirement already satisfied: torchsummary in /usr/local/lib/python3.10/dist-packages (1.5.1)\n"
          ]
        }
      ]
    },
    {
      "cell_type": "markdown",
      "source": [
        "##### $\\text{Problem 1. Self-Attention for Object Recognition with CNNs}$ [10 Marks]\n",
        "Implement a sample CNN with one or\n",
        "more self-attention layer(s) for performing object recognition over CIFAR-10 dataset. You have to\n",
        "implement the self-attention layer yourself and use it in the forward function defined by you. All\n",
        "other layers (fully connected, nonlinearity, conv layer, etc.) can be bulit-in implementations. The\n",
        "network can be a simpler one (e.g., it may have 1x Conv, 4x [Conv followed by SA], 1x Conv, and\n",
        "1x GAP). Please refer to the reading material provided here or any other similar one."
      ],
      "metadata": {
        "id": "rch_ZJa2cwyH"
      }
    },
    {
      "cell_type": "markdown",
      "source": [
        "### Solution 1\n",
        "\n",
        "`SelfAttention`\n",
        "\n",
        "1. **Initialization**:\n",
        "   - `__init__` method:  It takes two arguments: `input_channels` and `input_dim`, which represent the number of input channels and the dimension of each channel respectively.\n",
        "   - Inside the `__init__` method:\n",
        "     - `input_channels` and `input_dim` are stored as attributes of the module.\n",
        "     - Three linear layers (`query_mat`, `key_mat`, and `value_mat`) are initialized using `nn.Linear`. Each linear layer takes an input of size `input_dim**2` and produces an output of size `input_dim**2`. These layers are used to transform the input data into query, key, and value vectors.\n",
        "\n",
        "2. **Forward Pass**:\n",
        "   - `forward` method: This method defines the forward pass of the `SelfAttention` module.\n",
        "   - Inside the `forward` method:\n",
        "     - The input tensor `x` is reshaped using `view` to have a shape of `(batch_size, input_channels, input_dim**2)`.\n",
        "     - The input tensor is passed through each of the linear layers (`query_mat`, `key_mat`, and `value_mat`) to obtain query, key, and value tensors respectively.\n",
        "     - The attention score is computed by taking the dot product of query and key tensors, and then divided by `self.input_dim` to normalize the scores.\n",
        "     - Softmax is applied along the second dimension of the attention score tensor to obtain attention probabilities.\n",
        "     - The attention probabilities are used to compute the weighted sum of value vectors, resulting in the attention output.\n",
        "     - Finally, the attention output tensor is reshaped to its original shape `(batch_size, input_channels, input_dim, input_dim)` and returned.\n"
      ],
      "metadata": {
        "id": "B7vCg_C4l9R8"
      }
    },
    {
      "cell_type": "code",
      "source": [
        "class SelfAttention(nn.Module):\n",
        "    def __init__(self, input_channels, input_dim):\n",
        "        super(SelfAttention, self).__init__()\n",
        "        self.input_channels = input_channels\n",
        "        self.input_dim = input_dim\n",
        "        self.query_mat = nn.Linear(input_dim**2, input_dim**2, bias=False)\n",
        "        self.key_mat = nn.Linear(input_dim**2, input_dim**2, bias=False)\n",
        "        self.value_mat = nn.Linear(input_dim**2, input_dim**2, bias=False)\n",
        "\n",
        "\n",
        "#         self.output_linear = nn.Linear(input_dim**2, input_dim**2, bias=False)  #this line\n",
        "\n",
        "    def forward(self, x):\n",
        "        x = x.view(-1, self.input_channels,self.input_dim**2)\n",
        "        query = self.query_mat(x)\n",
        "        key = self.key_mat(x)\n",
        "        value = self.value_mat(x)\n",
        "\n",
        "        attention_score = torch.bmm(query, key.transpose(1, 2)) / (self.input_dim)\n",
        "        attention_probs = F.softmax(attention_score, dim=1)\n",
        "        attention_outs = torch.bmm(attention_probs, value)\n",
        "\n",
        "#         output = self.output_linear(attention_outs)\n",
        "\n",
        "        attention_output = attention_outs.view(-1,self.input_channels, self.input_dim, self.input_dim)\n",
        "\n",
        "        return attention_output\n"
      ],
      "metadata": {
        "execution": {
          "iopub.status.busy": "2024-03-29T11:26:17.197941Z",
          "iopub.execute_input": "2024-03-29T11:26:17.198697Z",
          "iopub.status.idle": "2024-03-29T11:26:17.207681Z",
          "shell.execute_reply.started": "2024-03-29T11:26:17.198666Z",
          "shell.execute_reply": "2024-03-29T11:26:17.206668Z"
        },
        "trusted": true,
        "id": "LLZ9oQZPcwyI"
      },
      "execution_count": 2,
      "outputs": []
    },
    {
      "cell_type": "markdown",
      "source": [
        " module named `Norm` implements a layer normalization operation. Layer normalization is a technique used in neural networks to normalize the activations of each layer across the feature dimension.\n",
        "\n",
        "1. **Initialization**:\n",
        "   - `__init__` method: It takes two arguments: `d_model`, which represents the size of the input feature dimension, and `eps`, which is a small value added to the denominator for numerical stability.\n",
        "   - Inside the `__init__` method:\n",
        "     - The size of the input feature dimension (`d_model`) is stored as an attribute of the module.\n",
        "     - Two learnable parameters, `alpha` and `bias`, are initialized as `nn.Parameter` objects. `alpha` is a tensor initialized with ones, and `bias` is a tensor initialized with zeros. Both tensors have the same size as the input feature dimension (`d_model`).\n",
        "     - `eps` is stored as an attribute of the module.\n",
        "\n",
        "2. **Forward Pass**:\n",
        "   - Inside the `forward` method:\n",
        "     - The input tensor `x` is normalized using layer normalization formula:\n",
        "       ```\n",
        "       norm = self.alpha * (x - x.mean(dim=-1, keepdim=True)) / (x.std(dim=-1, keepdim=True) + self.eps) + self.bias\n",
        "       ```\n",
        "       Here:\n",
        "       - `x.mean(dim=-1, keepdim=True)` computes the mean of each instance along the last dimension (feature dimension) while keeping the dimensionality unchanged.\n",
        "       - `x.std(dim=-1, keepdim=True)` computes the standard deviation of each instance along the last dimension while keeping the dimensionality unchanged.\n",
        "       - `self.alpha` scales the normalized values.\n",
        "       - `self.bias` adds a bias term.\n",
        "       - `self.eps` is added to the denominator for numerical stability.\n",
        "     - The normalized tensor `norm` is returned.\n",
        "\n",
        "In summary, the `Norm` module performs layer normalization on the input tensor `x`, applying learnable scaling (`alpha`) and shifting (`bias`) parameters to normalize the activations across the feature dimension."
      ],
      "metadata": {
        "id": "zgqfGI1nmkK8"
      }
    },
    {
      "cell_type": "code",
      "source": [
        "class Norm(nn.Module):\n",
        "    def __init__(self, d_model, eps = 1e-6):\n",
        "        super().__init__()\n",
        "\n",
        "        self.size = d_model\n",
        "        # create two learnable parameters to calibrate normalisation\n",
        "        self.alpha = nn.Parameter(torch.ones(self.size))\n",
        "        self.bias = nn.Parameter(torch.zeros(self.size))\n",
        "        self.eps = eps\n",
        "    def forward(self, x):\n",
        "        norm = self.alpha * (x - x.mean(dim=-1, keepdim=True)) \\\n",
        "        / (x.std(dim=-1, keepdim=True) + self.eps) + self.bias\n",
        "        return norm"
      ],
      "metadata": {
        "execution": {
          "iopub.status.busy": "2024-03-29T11:26:21.416751Z",
          "iopub.execute_input": "2024-03-29T11:26:21.417114Z",
          "iopub.status.idle": "2024-03-29T11:26:21.423875Z",
          "shell.execute_reply.started": "2024-03-29T11:26:21.417086Z",
          "shell.execute_reply": "2024-03-29T11:26:21.422878Z"
        },
        "trusted": true,
        "id": "ra22cJ6UcwyI"
      },
      "execution_count": 3,
      "outputs": []
    },
    {
      "cell_type": "markdown",
      "source": [
        "This code defines a residual block (`ResBlk`) which helps in overcoming the vanishing gradient problem and facilitate the training of very deep networks.\n",
        "\n",
        "1. **Initialization**:\n",
        "   - `__init__` method: It takes one argument `c`, which represents the number of input channels.\n",
        "   - Inside the `__init__` method:\n",
        "     - Four convolutional layers (`rn1`, `rn2`, `rn3`, and `rn4`) are initialized using `nn.Conv2d`. Each convolutional layer has `c` input channels, `c` output channels, a kernel size of 3x3, a stride of 1, and padding of 1. These layers perform convolution operations.\n",
        "     - Four batch normalization layers (`bn6`, `bn7`, `bn8`, and `bn9`) are initialized using `nn.BatchNorm2d`. Each batch normalization layer has `c` input channels. Batch normalization helps in stabilizing and accelerating the training of deep neural networks.\n",
        "\n",
        "2. **Forward Pass**:\n",
        "   - Inside the `forward` method:\n",
        "     - The input tensor `x` is first stored in `res` to be used for the residual connection.\n",
        "     - The input tensor `x` undergoes two sets of convolution and activation operations followed by batch normalization:\n",
        "       - `x` is passed through `rn1` and then through `bn6`, followed by a ReLU activation.\n",
        "       - `x` is passed through `rn2` and then through `bn7`, followed by a ReLU activation.\n",
        "       - The output of the second convolutional layer is added to the original input `res`, implementing the residual connection.\n",
        "     - Then, the process is repeated:\n",
        "       - The current state of `x` is stored in `res`.\n",
        "       - `x` is passed through `rn3` and then through `bn8`, followed by a ReLU activation.\n",
        "       - `x` is passed through `rn4` and then through `bn9`, followed by a ReLU activation.\n",
        "       - The output of the second convolutional layer is added to the original input `res` again.\n",
        "     - The resulting tensor `x` after both sets of operations is returned.\n",
        "\n",
        "In summary, the `ResBlk` module consists of two sets of convolutional layers with batch normalization and ReLU activations, along with residual connections, to facilitate the training of deep convolutional neural networks."
      ],
      "metadata": {
        "id": "6liy-uHonP77"
      }
    },
    {
      "cell_type": "code",
      "source": [
        "class ResBlk(nn.Module):\n",
        "    def __init__(self,c):\n",
        "        super(ResBlk, self).__init__()\n",
        "        self.rn1 = nn.Conv2d(c, c, kernel_size=3, stride=1, padding=1)\n",
        "        self.rn2 = nn.Conv2d(c, c, kernel_size=3, stride=1, padding=1)\n",
        "        self.rn3 = nn.Conv2d(c, c, kernel_size=3, stride=1, padding=1)\n",
        "        self.rn4 = nn.Conv2d(c, c, kernel_size=3, stride=1, padding=1)\n",
        "\n",
        "\n",
        "        self.bn6 = nn.BatchNorm2d(c)\n",
        "        self.bn7 = nn.BatchNorm2d(c)\n",
        "        self.bn8 = nn.BatchNorm2d(c)\n",
        "        self.bn9 = nn.BatchNorm2d(c)\n",
        "\n",
        "    def forward(self, x):\n",
        "        res = x\n",
        "        x = F.relu(self.bn6(self.rn1(x)))\n",
        "        x = F.relu(self.bn7(self.rn2(x)))\n",
        "        x = res + x\n",
        "\n",
        "        res = x\n",
        "        x = F.relu(self.bn8(self.rn3(x)))\n",
        "        x = F.relu(self.bn9(self.rn4(x)))\n",
        "        x = res + x\n",
        "\n",
        "        return x"
      ],
      "metadata": {
        "execution": {
          "iopub.status.busy": "2024-03-29T11:26:24.257238Z",
          "iopub.execute_input": "2024-03-29T11:26:24.257938Z",
          "iopub.status.idle": "2024-03-29T11:26:24.266874Z",
          "shell.execute_reply.started": "2024-03-29T11:26:24.257905Z",
          "shell.execute_reply": "2024-03-29T11:26:24.265918Z"
        },
        "trusted": true,
        "id": "IwgDQ5IFcwyI"
      },
      "execution_count": 4,
      "outputs": []
    },
    {
      "cell_type": "markdown",
      "source": [
        "Below code defines a CNN architecture called `ConvSA` in PyTorch.\n",
        "\n",
        "1. **Initialization**:\n",
        "   - It defines several convolutional layers (`conv1` through `conv5`) with batch normalization layers (`bn1` through `bn5`) after each convolutional layer. These layers are used to extract features from the input images.\n",
        "   - `selfA1` and `selfA2` are instances of the `SelfAttention` module, which applies self-attention mechanism on feature maps.\n",
        "   - `ln1` and `ln2` are instances of `LayerNorm`, while `cln1` and `cln2` are instances of `Norm`, both used for normalization purposes.\n",
        "   - `res1`, `res2`, and `res3` are instances of the `ResBlk` module, which represents residual blocks.\n",
        "   - The fully connected layers (`fc1`, `fc2`, `fc3`) are used for classification, with `dropout` applied after the first fully connected layer to reduce overfitting.\n",
        "\n",
        "2. **Forward Pass**:\n",
        "   - It starts with applying a convolution operation (`conv1`) followed by batch normalization and ReLU activation. Then, max-pooling is applied (`pool`).\n",
        "   - Similar operations are repeated for subsequent convolutional layers (`conv2` through `conv5`), each followed by batch normalization, ReLU activation, and max-pooling.\n",
        "   - After `conv2`, self-attention (`selfA1`) and a residual block (`res1`) are applied.\n",
        "   - After `conv3`, another self-attention (`selfA2`) and a residual block (`res2`) are applied.\n",
        "   - After `conv4`, a residual block (`res3`) is applied.\n",
        "   - Finally, the feature maps are flattened and passed through fully connected layers (`fc1`, `fc2`, `fc3`) for classification. A dropout layer is applied before the second fully connected layer, and the output is passed through a log softmax function to produce class probabilities.\n",
        "\n",
        "Overall, this architecture combines convolutional layers with self-attention mechanisms, residual blocks, and normalization layers to extract hierarchical features from images and perform classification."
      ],
      "metadata": {
        "id": "wOz7K5uNcwyI"
      }
    },
    {
      "cell_type": "code",
      "source": [
        "class ConvSA(nn.Module):\n",
        "    def __init__(self):\n",
        "        super(ConvSA, self).__init__()\n",
        "        self.conv1 = nn.Conv2d(in_channels=3, out_channels=32, kernel_size=3, stride=1, padding=1)\n",
        "        self.bn1 = nn.BatchNorm2d(32)\n",
        "\n",
        "        self.conv2 = nn.Conv2d(32, 64, kernel_size=3, stride=1, padding=1)\n",
        "        self.bn2 = nn.BatchNorm2d(64)\n",
        "        self.selfA1 = SelfAttention(input_channels=64, input_dim=8)\n",
        "        self.ln1 = nn.LayerNorm([64, 8, 8])\n",
        "        self.cln1 = Norm([64, 8, 8])\n",
        "        self.res1 = ResBlk(64)\n",
        "\n",
        "        self.conv3 = nn.Conv2d(64, 128, kernel_size=3, stride=1, padding=1)\n",
        "        self.bn3 = nn.BatchNorm2d(128)\n",
        "        self.selfA2 = SelfAttention(input_channels=128, input_dim=4)\n",
        "        self.ln2 = nn.LayerNorm([128, 4, 4])\n",
        "        self.cln2 = Norm([128, 4, 4])\n",
        "        self.res2 = ResBlk(128)\n",
        "\n",
        "\n",
        "        self.conv4 = nn.Conv2d(128, 256, kernel_size=3, stride=1, padding=1)\n",
        "        self.bn4 = nn.BatchNorm2d(256)\n",
        "        self.res3 = ResBlk(256)\n",
        "\n",
        "        self.conv5 = nn.Conv2d(256, 512, kernel_size=3, stride=1, padding=1)\n",
        "        self.bn5 = nn.BatchNorm2d(512)\n",
        "\n",
        "\n",
        "        self.pool = nn.MaxPool2d(2, 2)\n",
        "        self.fc1 = nn.Linear(1024, 512)  # Adjusted the output size after pooling\n",
        "        self.fc2 = nn.Linear(512, 256)\n",
        "        self.fc3 = nn.Linear(256, 10)\n",
        "\n",
        "        self.dropout = nn.Dropout(0.5)\n",
        "\n",
        "\n",
        "\n",
        "    def forward(self, x):\n",
        "        x = F.relu(self.bn1(self.conv1(x)))\n",
        "        x = self.pool(x)\n",
        "\n",
        "\n",
        "        x = F.relu(self.bn2(self.conv2(x)))\n",
        "        x = self.pool(x)\n",
        "        res = x\n",
        "        x = self.selfA1(x)\n",
        "        x = x + res\n",
        "        x = self.cln1(x)\n",
        "        x = self.res1(x)\n",
        "\n",
        "\n",
        "        x = F.relu(self.bn3(self.conv3(x)))\n",
        "        x = self.pool(x)\n",
        "        res = x\n",
        "        x = self.selfA2(x)\n",
        "        x = x + res\n",
        "        x = self.cln2(x)\n",
        "        x = self.res2(x)\n",
        "\n",
        "        x = F.relu(self.bn4(self.conv4(x)))\n",
        "        x = self.res3(x)\n",
        "        x = self.pool(x)\n",
        "\n",
        "#         x = F.relu(self.bn5(self.conv5(x)))\n",
        "#         x = self.pool(x)\n",
        "\n",
        "        x = torch.flatten(x, 1)\n",
        "        x = F.relu(self.fc1(x))\n",
        "        x = self.dropout(x)\n",
        "        x = F.relu(self.fc2(x))\n",
        "        x = self.fc3(x)\n",
        "        return F.log_softmax(x, dim=1)\n"
      ],
      "metadata": {
        "execution": {
          "iopub.status.busy": "2024-03-29T11:26:31.866231Z",
          "iopub.execute_input": "2024-03-29T11:26:31.866555Z",
          "iopub.status.idle": "2024-03-29T11:26:31.882988Z",
          "shell.execute_reply.started": "2024-03-29T11:26:31.866531Z",
          "shell.execute_reply": "2024-03-29T11:26:31.882050Z"
        },
        "trusted": true,
        "id": "kvgKosYccwyI"
      },
      "execution_count": 5,
      "outputs": []
    },
    {
      "cell_type": "markdown",
      "source": [
        "This code initializes the `ConvSA` model, moves it to the available device (GPU if available, otherwise CPU), and checks if there are multiple GPUs available for parallel processing. It then uses the `summary` function to print a summary of the model architecture along with the input shape.\n",
        "\n",
        "Here's what each part of the code does:\n",
        "\n",
        "1. **Device Selection**:\n",
        "   - `device = torch.device('cuda' if torch.cuda.is_available() else 'cpu')`: This line checks if a CUDA-enabled GPU is available. If available, it assigns the device as CUDA (GPU), otherwise as CPU.\n",
        "\n",
        "2. **Model Initialization and Parallelization**:\n",
        "   - `net = ConvSA().to(device)`: This line initializes an instance of the `ConvSA` model and moves it to the selected device.\n",
        "   - `if torch.cuda.device_count() > 1:`: This condition checks if there are multiple GPUs available.\n",
        "     - `net = nn.DataParallel(net)`: If there are multiple GPUs, the model is parallelized using `nn.DataParallel`, which distributes the computation across multiple GPUs.\n",
        "   \n",
        "3. **Move Model to Device**:\n",
        "   - `net.to(device)`: This line moves the model to the selected device again. Although the model was already moved to the device during initialization, this line ensures consistency, especially when dealing with multiple GPUs.\n",
        "\n",
        "4. **Summary Generation**:\n",
        "   - `summary(net, (3, 32, 32))`: This line generates a summary of the model architecture using the `summary` function. It provides information about the layers, output shapes, and parameters of the model. The input shape `(3, 32, 32)` represents a batch of RGB images with dimensions 32x32 pixels.\n",
        "\n",
        "Overall, this code snippet demonstrates how to initialize, move, and parallelize a PyTorch model, as well as how to generate a summary of its architecture. It's a common practice in deep learning projects to inspect the model architecture using summaries to ensure it matches the intended design. Additionally, parallelization across multiple GPUs can significantly speed up training for large models."
      ],
      "metadata": {
        "id": "gn7ModtWn3BM"
      }
    },
    {
      "cell_type": "code",
      "source": [
        "device = torch.device('cuda' if torch.cuda.is_available() else 'cpu')\n",
        "\n",
        "# Initialize your model\n",
        "net = ConvSA().to(device)\n",
        "\n",
        "# If there are multiple GPUs available\n",
        "if torch.cuda.device_count() > 1:\n",
        "    print(\"Let's use\", torch.cuda.device_count(), \"GPUs!\")\n",
        "    # Parallelize the model\n",
        "    net = nn.DataParallel(net)\n",
        "\n",
        "# Move the model to GPU\n",
        "net.to(device)\n",
        "summary(net, (3, 32, 32))"
      ],
      "metadata": {
        "execution": {
          "iopub.status.busy": "2024-03-29T11:26:40.262924Z",
          "iopub.execute_input": "2024-03-29T11:26:40.263312Z",
          "iopub.status.idle": "2024-03-29T11:26:43.462732Z",
          "shell.execute_reply.started": "2024-03-29T11:26:40.263284Z",
          "shell.execute_reply": "2024-03-29T11:26:43.461792Z"
        },
        "trusted": true,
        "colab": {
          "base_uri": "https://localhost:8080/"
        },
        "id": "vSaB9S02cwyJ",
        "outputId": "25b9c95f-b952-4f9f-c28e-75d416f9c436"
      },
      "execution_count": 6,
      "outputs": [
        {
          "output_type": "stream",
          "name": "stdout",
          "text": [
            "----------------------------------------------------------------\n",
            "        Layer (type)               Output Shape         Param #\n",
            "================================================================\n",
            "            Conv2d-1           [-1, 32, 32, 32]             896\n",
            "       BatchNorm2d-2           [-1, 32, 32, 32]              64\n",
            "         MaxPool2d-3           [-1, 32, 16, 16]               0\n",
            "            Conv2d-4           [-1, 64, 16, 16]          18,496\n",
            "       BatchNorm2d-5           [-1, 64, 16, 16]             128\n",
            "         MaxPool2d-6             [-1, 64, 8, 8]               0\n",
            "            Linear-7               [-1, 64, 64]           4,096\n",
            "            Linear-8               [-1, 64, 64]           4,096\n",
            "            Linear-9               [-1, 64, 64]           4,096\n",
            "    SelfAttention-10             [-1, 64, 8, 8]               0\n",
            "             Norm-11             [-1, 64, 8, 8]           4,096\n",
            "           Conv2d-12             [-1, 64, 8, 8]          36,928\n",
            "      BatchNorm2d-13             [-1, 64, 8, 8]             128\n",
            "           Conv2d-14             [-1, 64, 8, 8]          36,928\n",
            "      BatchNorm2d-15             [-1, 64, 8, 8]             128\n",
            "           Conv2d-16             [-1, 64, 8, 8]          36,928\n",
            "      BatchNorm2d-17             [-1, 64, 8, 8]             128\n",
            "           Conv2d-18             [-1, 64, 8, 8]          36,928\n",
            "      BatchNorm2d-19             [-1, 64, 8, 8]             128\n",
            "           ResBlk-20             [-1, 64, 8, 8]               0\n",
            "           Conv2d-21            [-1, 128, 8, 8]          73,856\n",
            "      BatchNorm2d-22            [-1, 128, 8, 8]             256\n",
            "        MaxPool2d-23            [-1, 128, 4, 4]               0\n",
            "           Linear-24              [-1, 128, 16]             256\n",
            "           Linear-25              [-1, 128, 16]             256\n",
            "           Linear-26              [-1, 128, 16]             256\n",
            "    SelfAttention-27            [-1, 128, 4, 4]               0\n",
            "             Norm-28            [-1, 128, 4, 4]           2,048\n",
            "           Conv2d-29            [-1, 128, 4, 4]         147,584\n",
            "      BatchNorm2d-30            [-1, 128, 4, 4]             256\n",
            "           Conv2d-31            [-1, 128, 4, 4]         147,584\n",
            "      BatchNorm2d-32            [-1, 128, 4, 4]             256\n",
            "           Conv2d-33            [-1, 128, 4, 4]         147,584\n",
            "      BatchNorm2d-34            [-1, 128, 4, 4]             256\n",
            "           Conv2d-35            [-1, 128, 4, 4]         147,584\n",
            "      BatchNorm2d-36            [-1, 128, 4, 4]             256\n",
            "           ResBlk-37            [-1, 128, 4, 4]               0\n",
            "           Conv2d-38            [-1, 256, 4, 4]         295,168\n",
            "      BatchNorm2d-39            [-1, 256, 4, 4]             512\n",
            "           Conv2d-40            [-1, 256, 4, 4]         590,080\n",
            "      BatchNorm2d-41            [-1, 256, 4, 4]             512\n",
            "           Conv2d-42            [-1, 256, 4, 4]         590,080\n",
            "      BatchNorm2d-43            [-1, 256, 4, 4]             512\n",
            "           Conv2d-44            [-1, 256, 4, 4]         590,080\n",
            "      BatchNorm2d-45            [-1, 256, 4, 4]             512\n",
            "           Conv2d-46            [-1, 256, 4, 4]         590,080\n",
            "      BatchNorm2d-47            [-1, 256, 4, 4]             512\n",
            "           ResBlk-48            [-1, 256, 4, 4]               0\n",
            "        MaxPool2d-49            [-1, 256, 2, 2]               0\n",
            "           Linear-50                  [-1, 512]         524,800\n",
            "          Dropout-51                  [-1, 512]               0\n",
            "           Linear-52                  [-1, 256]         131,328\n",
            "           Linear-53                   [-1, 10]           2,570\n",
            "================================================================\n",
            "Total params: 4,169,226\n",
            "Trainable params: 4,163,082\n",
            "Non-trainable params: 6,144\n",
            "----------------------------------------------------------------\n",
            "Input size (MB): 0.01\n",
            "Forward/backward pass size (MB): 2.00\n",
            "Params size (MB): 15.90\n",
            "Estimated Total Size (MB): 17.92\n",
            "----------------------------------------------------------------\n"
          ]
        }
      ]
    },
    {
      "cell_type": "markdown",
      "source": [
        "##### $\\text{Define transformations and importing datasets}$"
      ],
      "metadata": {
        "id": "E25h0ay7cwyJ"
      }
    },
    {
      "cell_type": "code",
      "source": [
        "transform = transforms.Compose([\n",
        "    transforms.ToTensor(),\n",
        "    transforms.Normalize((0.5, 0.5, 0.5), (0.5, 0.5, 0.5))\n",
        "])\n",
        "\n",
        "batch_size = 2048 # Set the batch size to 4\n",
        "trainset = torchvision.datasets.CIFAR10(root='./data', train=True, download=True, transform=transform)\n",
        "trainloader = torch.utils.data.DataLoader(trainset, batch_size=batch_size, shuffle=True, num_workers=2)\n",
        "\n",
        "testset = torchvision.datasets.CIFAR10(root='./data', train=False, download=True, transform=transform)\n",
        "testloader = torch.utils.data.DataLoader(testset, batch_size=batch_size, shuffle=False, num_workers=2)\n",
        "\n",
        "classes = ('plane', 'car', 'bird', 'cat', 'deer', 'dog', 'frog', 'horse', 'ship', 'truck')\n",
        "\n",
        "\n",
        "\n",
        "for batch in trainloader:\n",
        "    data, labels = batch  # Assuming each batch contains data and labels\n",
        "    print(\"Data size:\", data.size())\n",
        "    print(\"Data shape:\", data.shape)\n",
        "    print(\"Labels size:\", labels.size())\n",
        "    print(\"Labels shape:\", labels.shape)\n",
        "    break  # Print only the first batch\n",
        "\n",
        "# Checking the size of the train set\n",
        "trainset_size = len(trainloader.dataset)\n",
        "print(\"Train set size:\", trainset_size)\n",
        "\n",
        "# Checking the size of the test set\n",
        "testset_size = len(testloader.dataset)\n",
        "print(\"Test set size:\", testset_size)\n"
      ],
      "metadata": {
        "execution": {
          "iopub.status.busy": "2024-03-29T11:26:49.257580Z",
          "iopub.execute_input": "2024-03-29T11:26:49.258503Z",
          "iopub.status.idle": "2024-03-29T11:26:55.981771Z",
          "shell.execute_reply.started": "2024-03-29T11:26:49.258460Z",
          "shell.execute_reply": "2024-03-29T11:26:55.980708Z"
        },
        "trusted": true,
        "colab": {
          "base_uri": "https://localhost:8080/"
        },
        "id": "CLeVOUzocwyJ",
        "outputId": "6aef0d90-f50b-4a3f-dd46-64f24d9a02bb"
      },
      "execution_count": 7,
      "outputs": [
        {
          "output_type": "stream",
          "name": "stdout",
          "text": [
            "Downloading https://www.cs.toronto.edu/~kriz/cifar-10-python.tar.gz to ./data/cifar-10-python.tar.gz\n"
          ]
        },
        {
          "output_type": "stream",
          "name": "stderr",
          "text": [
            "100%|██████████| 170498071/170498071 [00:07<00:00, 22985622.72it/s]\n"
          ]
        },
        {
          "output_type": "stream",
          "name": "stdout",
          "text": [
            "Extracting ./data/cifar-10-python.tar.gz to ./data\n",
            "Files already downloaded and verified\n",
            "Data size: torch.Size([2048, 3, 32, 32])\n",
            "Data shape: torch.Size([2048, 3, 32, 32])\n",
            "Labels size: torch.Size([2048])\n",
            "Labels shape: torch.Size([2048])\n",
            "Train set size: 50000\n",
            "Test set size: 10000\n"
          ]
        }
      ]
    },
    {
      "cell_type": "code",
      "source": [
        "# Define loss function and optimizer\n",
        "criterion = nn.CrossEntropyLoss()\n",
        "optimizer = torch.optim.Adam(net.parameters(), lr=.001)\n",
        "\n",
        "# optimizer = torch.optim.SGD(net.parameters(), lr=1, momentum=0.8)\n",
        "\n",
        "\n",
        "# Training loop\n",
        "epochs = 40\n",
        "for epoch in tqdm(range(epochs)):\n",
        "    running_loss = 0.0\n",
        "    for i, data in enumerate(trainloader, 0):\n",
        "        inputs, labels = data[0].to(device), data[1].to(device)\n",
        "\n",
        "        # Zero the parameter gradients\n",
        "        optimizer.zero_grad()\n",
        "\n",
        "        # Forward + backward + optimize\n",
        "        outputs = net(inputs)\n",
        "        loss = criterion(outputs, labels)\n",
        "        loss.backward()\n",
        "        optimizer.step()\n",
        "\n",
        "        # Print statistics\n",
        "        running_loss += loss.item()\n",
        "        if i % 10 == 1:  # Print every 2000 mini-batches\n",
        "            print(f\"[{epoch + 1}, {i + 1:5d}] loss: {running_loss / 10:.3f}\")\n",
        "            running_loss = 0.0\n",
        "\n",
        "print(\"Finished Training\")\n"
      ],
      "metadata": {
        "execution": {
          "iopub.status.busy": "2024-03-29T11:27:00.812058Z",
          "iopub.execute_input": "2024-03-29T11:27:00.812758Z",
          "iopub.status.idle": "2024-03-29T11:30:54.455202Z",
          "shell.execute_reply.started": "2024-03-29T11:27:00.812723Z",
          "shell.execute_reply": "2024-03-29T11:30:54.453931Z"
        },
        "trusted": true,
        "colab": {
          "base_uri": "https://localhost:8080/"
        },
        "id": "x0-E_A1IcwyK",
        "outputId": "69d83ef1-c3fd-435c-cbd0-57d4798748da"
      },
      "execution_count": 13,
      "outputs": [
        {
          "output_type": "stream",
          "name": "stderr",
          "text": [
            "\r  0%|          | 0/40 [00:00<?, ?it/s]"
          ]
        },
        {
          "output_type": "stream",
          "name": "stdout",
          "text": [
            "[1,     2] loss: 0.026\n",
            "[1,    12] loss: 0.178\n",
            "[1,    22] loss: 0.138\n"
          ]
        },
        {
          "output_type": "stream",
          "name": "stderr",
          "text": [
            "\r  2%|▎         | 1/40 [00:15<09:54, 15.26s/it]"
          ]
        },
        {
          "output_type": "stream",
          "name": "stdout",
          "text": [
            "[2,     2] loss: 0.013\n",
            "[2,    12] loss: 0.085\n",
            "[2,    22] loss: 0.084\n"
          ]
        },
        {
          "output_type": "stream",
          "name": "stderr",
          "text": [
            "\r  5%|▌         | 2/40 [00:33<10:53, 17.19s/it]"
          ]
        },
        {
          "output_type": "stream",
          "name": "stdout",
          "text": [
            "[3,     2] loss: 0.012\n",
            "[3,    12] loss: 0.069\n",
            "[3,    22] loss: 0.085\n"
          ]
        },
        {
          "output_type": "stream",
          "name": "stderr",
          "text": [
            "\r  8%|▊         | 3/40 [00:50<10:35, 17.16s/it]"
          ]
        },
        {
          "output_type": "stream",
          "name": "stdout",
          "text": [
            "[4,     2] loss: 0.012\n",
            "[4,    12] loss: 0.066\n",
            "[4,    22] loss: 0.073\n"
          ]
        },
        {
          "output_type": "stream",
          "name": "stderr",
          "text": [
            "\r 10%|█         | 4/40 [01:04<09:29, 15.82s/it]"
          ]
        },
        {
          "output_type": "stream",
          "name": "stdout",
          "text": [
            "[5,     2] loss: 0.012\n",
            "[5,    12] loss: 0.073\n",
            "[5,    22] loss: 0.073\n"
          ]
        },
        {
          "output_type": "stream",
          "name": "stderr",
          "text": [
            "\r 12%|█▎        | 5/40 [01:18<08:49, 15.12s/it]"
          ]
        },
        {
          "output_type": "stream",
          "name": "stdout",
          "text": [
            "[6,     2] loss: 0.010\n",
            "[6,    12] loss: 0.072\n",
            "[6,    22] loss: 0.074\n"
          ]
        },
        {
          "output_type": "stream",
          "name": "stderr",
          "text": [
            "\r 15%|█▌        | 6/40 [01:32<08:19, 14.70s/it]"
          ]
        },
        {
          "output_type": "stream",
          "name": "stdout",
          "text": [
            "[7,     2] loss: 0.011\n",
            "[7,    12] loss: 0.059\n",
            "[7,    22] loss: 0.076\n"
          ]
        },
        {
          "output_type": "stream",
          "name": "stderr",
          "text": [
            "\r 18%|█▊        | 7/40 [01:46<07:55, 14.42s/it]"
          ]
        },
        {
          "output_type": "stream",
          "name": "stdout",
          "text": [
            "[8,     2] loss: 0.010\n",
            "[8,    12] loss: 0.063\n",
            "[8,    22] loss: 0.077\n"
          ]
        },
        {
          "output_type": "stream",
          "name": "stderr",
          "text": [
            "\r 20%|██        | 8/40 [01:59<07:31, 14.12s/it]"
          ]
        },
        {
          "output_type": "stream",
          "name": "stdout",
          "text": [
            "[9,     2] loss: 0.010\n",
            "[9,    12] loss: 0.060\n",
            "[9,    22] loss: 0.069\n"
          ]
        },
        {
          "output_type": "stream",
          "name": "stderr",
          "text": [
            "\r 22%|██▎       | 9/40 [02:13<07:13, 14.00s/it]"
          ]
        },
        {
          "output_type": "stream",
          "name": "stdout",
          "text": [
            "[10,     2] loss: 0.011\n",
            "[10,    12] loss: 0.061\n",
            "[10,    22] loss: 0.065\n"
          ]
        },
        {
          "output_type": "stream",
          "name": "stderr",
          "text": [
            "\r 25%|██▌       | 10/40 [02:27<07:04, 14.15s/it]"
          ]
        },
        {
          "output_type": "stream",
          "name": "stdout",
          "text": [
            "[11,     2] loss: 0.011\n",
            "[11,    12] loss: 0.062\n",
            "[11,    22] loss: 0.062\n"
          ]
        },
        {
          "output_type": "stream",
          "name": "stderr",
          "text": [
            "\r 28%|██▊       | 11/40 [02:41<06:46, 14.01s/it]"
          ]
        },
        {
          "output_type": "stream",
          "name": "stdout",
          "text": [
            "[12,     2] loss: 0.011\n",
            "[12,    12] loss: 0.058\n",
            "[12,    22] loss: 0.053\n"
          ]
        },
        {
          "output_type": "stream",
          "name": "stderr",
          "text": [
            "\r 30%|███       | 12/40 [02:55<06:28, 13.89s/it]"
          ]
        },
        {
          "output_type": "stream",
          "name": "stdout",
          "text": [
            "[13,     2] loss: 0.007\n",
            "[13,    12] loss: 0.052\n",
            "[13,    22] loss: 0.066\n"
          ]
        },
        {
          "output_type": "stream",
          "name": "stderr",
          "text": [
            "\r 32%|███▎      | 13/40 [03:08<06:12, 13.78s/it]"
          ]
        },
        {
          "output_type": "stream",
          "name": "stdout",
          "text": [
            "[14,     2] loss: 0.011\n",
            "[14,    12] loss: 0.063\n",
            "[14,    22] loss: 0.060\n"
          ]
        },
        {
          "output_type": "stream",
          "name": "stderr",
          "text": [
            "\r 35%|███▌      | 14/40 [03:23<06:04, 14.02s/it]"
          ]
        },
        {
          "output_type": "stream",
          "name": "stdout",
          "text": [
            "[15,     2] loss: 0.010\n",
            "[15,    12] loss: 0.051\n",
            "[15,    22] loss: 0.053\n"
          ]
        },
        {
          "output_type": "stream",
          "name": "stderr",
          "text": [
            "\r 38%|███▊      | 15/40 [03:37<05:48, 13.93s/it]"
          ]
        },
        {
          "output_type": "stream",
          "name": "stdout",
          "text": [
            "[16,     2] loss: 0.007\n",
            "[16,    12] loss: 0.049\n",
            "[16,    22] loss: 0.044\n"
          ]
        },
        {
          "output_type": "stream",
          "name": "stderr",
          "text": [
            "\r 40%|████      | 16/40 [03:50<05:32, 13.86s/it]"
          ]
        },
        {
          "output_type": "stream",
          "name": "stdout",
          "text": [
            "[17,     2] loss: 0.009\n",
            "[17,    12] loss: 0.045\n",
            "[17,    22] loss: 0.050\n"
          ]
        },
        {
          "output_type": "stream",
          "name": "stderr",
          "text": [
            "\r 42%|████▎     | 17/40 [04:04<05:19, 13.91s/it]"
          ]
        },
        {
          "output_type": "stream",
          "name": "stdout",
          "text": [
            "[18,     2] loss: 0.006\n",
            "[18,    12] loss: 0.042\n",
            "[18,    22] loss: 0.043\n"
          ]
        },
        {
          "output_type": "stream",
          "name": "stderr",
          "text": [
            "\r 45%|████▌     | 18/40 [04:18<05:04, 13.82s/it]"
          ]
        },
        {
          "output_type": "stream",
          "name": "stdout",
          "text": [
            "[19,     2] loss: 0.006\n",
            "[19,    12] loss: 0.041\n",
            "[19,    22] loss: 0.036\n"
          ]
        },
        {
          "output_type": "stream",
          "name": "stderr",
          "text": [
            "\r 48%|████▊     | 19/40 [04:32<04:49, 13.81s/it]"
          ]
        },
        {
          "output_type": "stream",
          "name": "stdout",
          "text": [
            "[20,     2] loss: 0.005\n",
            "[20,    12] loss: 0.038\n",
            "[20,    22] loss: 0.045\n"
          ]
        },
        {
          "output_type": "stream",
          "name": "stderr",
          "text": [
            "\r 50%|█████     | 20/40 [04:46<04:38, 13.90s/it]"
          ]
        },
        {
          "output_type": "stream",
          "name": "stdout",
          "text": [
            "[21,     2] loss: 0.008\n",
            "[21,    12] loss: 0.042\n",
            "[21,    22] loss: 0.052\n"
          ]
        },
        {
          "output_type": "stream",
          "name": "stderr",
          "text": [
            "\r 52%|█████▎    | 21/40 [05:00<04:25, 13.98s/it]"
          ]
        },
        {
          "output_type": "stream",
          "name": "stdout",
          "text": [
            "[22,     2] loss: 0.007\n",
            "[22,    12] loss: 0.045\n",
            "[22,    22] loss: 0.050\n"
          ]
        },
        {
          "output_type": "stream",
          "name": "stderr",
          "text": [
            "\r 55%|█████▌    | 22/40 [05:14<04:12, 14.00s/it]"
          ]
        },
        {
          "output_type": "stream",
          "name": "stdout",
          "text": [
            "[23,     2] loss: 0.006\n",
            "[23,    12] loss: 0.037\n",
            "[23,    22] loss: 0.034\n"
          ]
        },
        {
          "output_type": "stream",
          "name": "stderr",
          "text": [
            "\r 57%|█████▊    | 23/40 [05:28<03:57, 13.96s/it]"
          ]
        },
        {
          "output_type": "stream",
          "name": "stdout",
          "text": [
            "[24,     2] loss: 0.005\n",
            "[24,    12] loss: 0.045\n",
            "[24,    22] loss: 0.048\n"
          ]
        },
        {
          "output_type": "stream",
          "name": "stderr",
          "text": [
            "\r 60%|██████    | 24/40 [05:42<03:43, 13.94s/it]"
          ]
        },
        {
          "output_type": "stream",
          "name": "stdout",
          "text": [
            "[25,     2] loss: 0.006\n",
            "[25,    12] loss: 0.033\n",
            "[25,    22] loss: 0.038\n"
          ]
        },
        {
          "output_type": "stream",
          "name": "stderr",
          "text": [
            "\r 62%|██████▎   | 25/40 [05:56<03:28, 13.91s/it]"
          ]
        },
        {
          "output_type": "stream",
          "name": "stdout",
          "text": [
            "[26,     2] loss: 0.008\n",
            "[26,    12] loss: 0.054\n",
            "[26,    22] loss: 0.056\n"
          ]
        },
        {
          "output_type": "stream",
          "name": "stderr",
          "text": [
            "\r 65%|██████▌   | 26/40 [06:10<03:14, 13.90s/it]"
          ]
        },
        {
          "output_type": "stream",
          "name": "stdout",
          "text": [
            "[27,     2] loss: 0.010\n",
            "[27,    12] loss: 0.041\n",
            "[27,    22] loss: 0.038\n"
          ]
        },
        {
          "output_type": "stream",
          "name": "stderr",
          "text": [
            "\r 68%|██████▊   | 27/40 [06:24<03:03, 14.09s/it]"
          ]
        },
        {
          "output_type": "stream",
          "name": "stdout",
          "text": [
            "[28,     2] loss: 0.005\n",
            "[28,    12] loss: 0.028\n",
            "[28,    22] loss: 0.043\n"
          ]
        },
        {
          "output_type": "stream",
          "name": "stderr",
          "text": [
            "\r 70%|███████   | 28/40 [06:38<02:47, 13.98s/it]"
          ]
        },
        {
          "output_type": "stream",
          "name": "stdout",
          "text": [
            "[29,     2] loss: 0.005\n",
            "[29,    12] loss: 0.037\n",
            "[29,    22] loss: 0.037\n"
          ]
        },
        {
          "output_type": "stream",
          "name": "stderr",
          "text": [
            "\r 72%|███████▎  | 29/40 [06:51<02:32, 13.89s/it]"
          ]
        },
        {
          "output_type": "stream",
          "name": "stdout",
          "text": [
            "[30,     2] loss: 0.005\n",
            "[30,    12] loss: 0.031\n",
            "[30,    22] loss: 0.039\n"
          ]
        },
        {
          "output_type": "stream",
          "name": "stderr",
          "text": [
            "\r 75%|███████▌  | 30/40 [07:05<02:18, 13.88s/it]"
          ]
        },
        {
          "output_type": "stream",
          "name": "stdout",
          "text": [
            "[31,     2] loss: 0.005\n",
            "[31,    12] loss: 0.036\n",
            "[31,    22] loss: 0.033\n"
          ]
        },
        {
          "output_type": "stream",
          "name": "stderr",
          "text": [
            "\r 78%|███████▊  | 31/40 [07:19<02:05, 13.91s/it]"
          ]
        },
        {
          "output_type": "stream",
          "name": "stdout",
          "text": [
            "[32,     2] loss: 0.005\n",
            "[32,    12] loss: 0.031\n",
            "[32,    22] loss: 0.037\n"
          ]
        },
        {
          "output_type": "stream",
          "name": "stderr",
          "text": [
            "\r 80%|████████  | 32/40 [07:33<01:50, 13.78s/it]"
          ]
        },
        {
          "output_type": "stream",
          "name": "stdout",
          "text": [
            "[33,     2] loss: 0.005\n",
            "[33,    12] loss: 0.027\n",
            "[33,    22] loss: 0.034\n"
          ]
        },
        {
          "output_type": "stream",
          "name": "stderr",
          "text": [
            "\r 82%|████████▎ | 33/40 [07:46<01:36, 13.75s/it]"
          ]
        },
        {
          "output_type": "stream",
          "name": "stdout",
          "text": [
            "[34,     2] loss: 0.005\n",
            "[34,    12] loss: 0.029\n",
            "[34,    22] loss: 0.033\n"
          ]
        },
        {
          "output_type": "stream",
          "name": "stderr",
          "text": [
            "\r 85%|████████▌ | 34/40 [08:00<01:21, 13.66s/it]"
          ]
        },
        {
          "output_type": "stream",
          "name": "stdout",
          "text": [
            "[35,     2] loss: 0.005\n",
            "[35,    12] loss: 0.039\n",
            "[35,    22] loss: 0.044\n"
          ]
        },
        {
          "output_type": "stream",
          "name": "stderr",
          "text": [
            "\r 88%|████████▊ | 35/40 [08:14<01:08, 13.72s/it]"
          ]
        },
        {
          "output_type": "stream",
          "name": "stdout",
          "text": [
            "[36,     2] loss: 0.006\n",
            "[36,    12] loss: 0.046\n",
            "[36,    22] loss: 0.048\n"
          ]
        },
        {
          "output_type": "stream",
          "name": "stderr",
          "text": [
            "\r 90%|█████████ | 36/40 [08:27<00:54, 13.66s/it]"
          ]
        },
        {
          "output_type": "stream",
          "name": "stdout",
          "text": [
            "[37,     2] loss: 0.006\n",
            "[37,    12] loss: 0.038\n",
            "[37,    22] loss: 0.039\n"
          ]
        },
        {
          "output_type": "stream",
          "name": "stderr",
          "text": [
            "\r 92%|█████████▎| 37/40 [08:41<00:41, 13.70s/it]"
          ]
        },
        {
          "output_type": "stream",
          "name": "stdout",
          "text": [
            "[38,     2] loss: 0.004\n",
            "[38,    12] loss: 0.033\n",
            "[38,    22] loss: 0.030\n"
          ]
        },
        {
          "output_type": "stream",
          "name": "stderr",
          "text": [
            "\r 95%|█████████▌| 38/40 [08:55<00:27, 13.70s/it]"
          ]
        },
        {
          "output_type": "stream",
          "name": "stdout",
          "text": [
            "[39,     2] loss: 0.004\n",
            "[39,    12] loss: 0.022\n",
            "[39,    22] loss: 0.028\n"
          ]
        },
        {
          "output_type": "stream",
          "name": "stderr",
          "text": [
            "\r 98%|█████████▊| 39/40 [09:09<00:13, 13.71s/it]"
          ]
        },
        {
          "output_type": "stream",
          "name": "stdout",
          "text": [
            "[40,     2] loss: 0.005\n",
            "[40,    12] loss: 0.028\n",
            "[40,    22] loss: 0.029\n"
          ]
        },
        {
          "output_type": "stream",
          "name": "stderr",
          "text": [
            "100%|██████████| 40/40 [09:23<00:00, 14.10s/it]"
          ]
        },
        {
          "output_type": "stream",
          "name": "stdout",
          "text": [
            "Finished Training\n"
          ]
        },
        {
          "output_type": "stream",
          "name": "stderr",
          "text": [
            "\n"
          ]
        }
      ]
    },
    {
      "cell_type": "code",
      "source": [
        "def imshow(img):\n",
        "    img = img / 2 + 0.5     # unnormalize\n",
        "    npimg = img.numpy()\n",
        "    plt.imshow(np.transpose(npimg, (1, 2, 0)))\n",
        "    plt.show()"
      ],
      "metadata": {
        "execution": {
          "iopub.status.busy": "2024-03-29T11:34:19.107971Z",
          "iopub.execute_input": "2024-03-29T11:34:19.108874Z",
          "iopub.status.idle": "2024-03-29T11:34:19.114342Z",
          "shell.execute_reply.started": "2024-03-29T11:34:19.108834Z",
          "shell.execute_reply": "2024-03-29T11:34:19.113211Z"
        },
        "trusted": true,
        "id": "k805B1rycwyK"
      },
      "execution_count": 14,
      "outputs": []
    },
    {
      "cell_type": "code",
      "source": [
        "dataiter = iter(testloader)\n",
        "images, labels = next(dataiter)\n",
        "\n",
        "# print images\n",
        "imshow(torchvision.utils.make_grid(images))\n",
        "print('GroundTruth: ', ' '.join(f'{classes[labels[j]]:5s}' for j in range(16)))"
      ],
      "metadata": {
        "execution": {
          "iopub.status.busy": "2024-03-29T11:34:21.080911Z",
          "iopub.execute_input": "2024-03-29T11:34:21.081786Z",
          "iopub.status.idle": "2024-03-29T11:34:22.508032Z",
          "shell.execute_reply.started": "2024-03-29T11:34:21.081751Z",
          "shell.execute_reply": "2024-03-29T11:34:22.506975Z"
        },
        "trusted": true,
        "colab": {
          "base_uri": "https://localhost:8080/",
          "height": 453
        },
        "id": "Fmv7NoXZcwyK",
        "outputId": "d1384bd6-9d6f-4009-94dc-b0df6a947316"
      },
      "execution_count": 15,
      "outputs": [
        {
          "output_type": "display_data",
          "data": {
            "text/plain": [
              "<Figure size 640x480 with 1 Axes>"
            ],
            "image/png": "[encoded data removed]"
          },
          "metadata": {}
        },
        {
          "output_type": "stream",
          "name": "stdout",
          "text": [
            "GroundTruth:  cat   ship  ship  plane frog  frog  car   frog  cat   car   plane truck dog   horse truck ship \n"
          ]
        }
      ]
    },
    {
      "cell_type": "code",
      "source": [
        "outputs = net(images.to(device))\n",
        "\n",
        "_, predicted = torch.max(outputs, 1)\n",
        "\n",
        "print('Predicted: ', ' '.join(f'{classes[predicted[j]]:5s}'\n",
        "                              for j in range(16)))"
      ],
      "metadata": {
        "execution": {
          "iopub.status.busy": "2024-03-29T11:43:37.936406Z",
          "iopub.execute_input": "2024-03-29T11:43:37.937150Z",
          "iopub.status.idle": "2024-03-29T11:43:38.016800Z",
          "shell.execute_reply.started": "2024-03-29T11:43:37.937104Z",
          "shell.execute_reply": "2024-03-29T11:43:38.015497Z"
        },
        "trusted": true,
        "colab": {
          "base_uri": "https://localhost:8080/"
        },
        "id": "KiC-5aeAcwyK",
        "outputId": "f0fe0332-bf18-4fa7-9bb8-216336ff27a2"
      },
      "execution_count": 16,
      "outputs": [
        {
          "output_type": "stream",
          "name": "stdout",
          "text": [
            "Predicted:  cat   ship  plane plane frog  frog  truck frog  cat   car   plane truck cat   horse car   ship \n"
          ]
        }
      ]
    },
    {
      "cell_type": "code",
      "source": [
        "correct = 0\n",
        "total = 0\n",
        "# since we're not training, we don't need to calculate the gradients for our outputs\n",
        "with torch.no_grad():\n",
        "    for data in testloader:\n",
        "        images, labels = data[0].to(device), data[1].to(device)\n",
        "        # calculate outputs by running images through the network\n",
        "        outputs = net(images)\n",
        "        # the class with the highest energy is what we choose as prediction\n",
        "        _, predicted = torch.max(outputs.data, 1)\n",
        "        total += labels.size(0)\n",
        "        correct += (predicted == labels).sum().item()\n",
        "\n",
        "print(f'Accuracy of the network on the 10000 test images: {100 * correct // total} %')"
      ],
      "metadata": {
        "execution": {
          "iopub.status.busy": "2024-03-29T11:43:42.269448Z",
          "iopub.execute_input": "2024-03-29T11:43:42.269804Z",
          "iopub.status.idle": "2024-03-29T11:43:44.148558Z",
          "shell.execute_reply.started": "2024-03-29T11:43:42.269777Z",
          "shell.execute_reply": "2024-03-29T11:43:44.147329Z"
        },
        "trusted": true,
        "colab": {
          "base_uri": "https://localhost:8080/"
        },
        "id": "Yi9VFvRpcwyK",
        "outputId": "05382bd3-e4e0-46c2-99ab-195ce8ca86f4"
      },
      "execution_count": 17,
      "outputs": [
        {
          "output_type": "stream",
          "name": "stdout",
          "text": [
            "Accuracy of the network on the 10000 test images: 69 %\n"
          ]
        }
      ]
    },
    {
      "cell_type": "markdown",
      "source": [
        "After 30 epochs accuracy is 68%\n",
        "\n",
        "After 40 epochs accuracy is 69%"
      ],
      "metadata": {
        "id": "4Ll-cFythI3M"
      }
    },
    {
      "cell_type": "markdown",
      "source": [
        "### Performance comparison"
      ],
      "metadata": {
        "id": "Z9YVUTNrwClC"
      }
    },
    {
      "cell_type": "code",
      "source": [
        "import matplotlib.pyplot as plt\n",
        "\n",
        "Y = [69,41.53]\n",
        "X = [\"Multiheaded Attention\",\"Self attention\"]\n",
        "plt.bar(X,Y,color =[\"green\",\"red\"])\n",
        "plt.title('Performance Comparision (40 epochs)')\n",
        "plt.ylabel('Accuracy')\n",
        "plt.show()\n"
      ],
      "metadata": {
        "colab": {
          "base_uri": "https://localhost:8080/",
          "height": 452
        },
        "id": "l1e90q0shdKK",
        "outputId": "62c8a3c5-8419-4279-b106-875cdcf8edc6"
      },
      "execution_count": 5,
      "outputs": [
        {
          "output_type": "display_data",
          "data": {
            "text/plain": [
              "<Figure size 640x480 with 1 Axes>"
            ],
            "image/png": "[encoded data removed]"
          },
          "metadata": {}
        }
      ]
    }
  ]
}